{
 "cells": [
  {
   "cell_type": "code",
   "execution_count": 2,
   "metadata": {},
   "outputs": [],
   "source": [
    "import torch\n",
    "import numpy as np\n",
    "from torch.autograd import Variable"
   ]
  },
  {
   "cell_type": "code",
   "execution_count": 4,
   "metadata": {},
   "outputs": [
    {
     "name": "stdout",
     "output_type": "stream",
     "text": [
      "tensor([[-0.3809, -0.3181, -0.3212],\n",
      "        [-0.2742, -2.1222,  0.9637]])\n"
     ]
    }
   ],
   "source": [
    "#级别:np->tensor->variable\n",
    "\n",
    "#1.np转tensor\n",
    "a=np.random.randn(2, 3)\n",
    "tensor1 = torch.Tensor(a)\n",
    "print(tensor1)\n"
   ]
  },
  {
   "cell_type": "code",
   "execution_count": 17,
   "metadata": {},
   "outputs": [
    {
     "name": "stdout",
     "output_type": "stream",
     "text": [
      "类型 <class 'torch.Tensor'>\n",
      "维度: 2\n",
      "元素个数: <built-in method numel of Tensor object at 0x00000233AC9C0360>\n"
     ]
    }
   ],
   "source": [
    "print('类型',type(tensor1))\n",
    "print('维度:',tensor1.dim())\n",
    "print('元素个数:',tensor1.numel)"
   ]
  },
  {
   "cell_type": "code",
   "execution_count": 24,
   "metadata": {},
   "outputs": [
    {
     "name": "stdout",
     "output_type": "stream",
     "text": [
      "[[-0.3809438  -0.31814507 -0.3212034 ]\n",
      " [-0.27416033 -2.1222126   0.96373165]]\n",
      "float32\n"
     ]
    }
   ],
   "source": [
    "#2.tensor 转np\n",
    "b=tensor1.numpy()\n",
    "print(b)\n",
    "print(b.dtype)#np也有.dtype"
   ]
  },
  {
   "cell_type": "code",
   "execution_count": 79,
   "metadata": {},
   "outputs": [
    {
     "name": "stdout",
     "output_type": "stream",
     "text": [
      "tensor([[ 0.1007, -0.7708],\n",
      "        [-0.4447, -0.7774],\n",
      "        [-0.7634, -0.8743]])\n",
      "torch.float32\n",
      "tensor([[ 0.1007, -0.7708],\n",
      "        [-0.4447, -0.7774],\n",
      "        [-0.7634, -0.8743]], dtype=torch.float64)\n",
      "转float torch.float32\n",
      "tensor([[ 0.1007, -0.7708],\n",
      "        [-0.4447, -0.7774],\n",
      "        [-0.7634, -0.8743]])\n",
      "转long torch.int64\n",
      "tensor([[0, 0],\n",
      "        [0, 0],\n",
      "        [0, 0]])\n"
     ]
    }
   ],
   "source": [
    "#3.torch直接建立tensor\n",
    "x = torch.randn(3, 2)\n",
    "print(x)\n",
    "print(x.dtype)\n",
    "print(x.type(torch.DoubleTensor))\n",
    "\n",
    "#4.转化类型\n",
    "x=x.float()#浮点型32\n",
    "print('转float',x.dtype)\n",
    "print(x)\n",
    "x=x.long()#整形#.int()\n",
    "print('转long',x.dtype)\n",
    "print(x)"
   ]
  },
  {
   "cell_type": "code",
   "execution_count": 80,
   "metadata": {},
   "outputs": [
    {
     "name": "stdout",
     "output_type": "stream",
     "text": [
      "tensor([[0, 0],\n",
      "        [0, 0],\n",
      "        [0, 0]])\n",
      "最大值： tensor([0, 0, 0])   最大下标: tensor([0, 0, 0])\n"
     ]
    }
   ],
   "source": [
    "#5。按行按列计算\n",
    "print(x)\n",
    "max_value, max_idx = torch.max(x, dim=1)#按行，意思就是每行操作一次，取每行最大\n",
    "print('最大值：',max_value,'  最大下标:',max_idx)\n",
    "\n"
   ]
  },
  {
   "cell_type": "code",
   "execution_count": 81,
   "metadata": {},
   "outputs": [
    {
     "name": "stdout",
     "output_type": "stream",
     "text": [
      "tensor([0, 0, 0])\n"
     ]
    }
   ],
   "source": [
    "sum_x = torch.sum(x, dim=1)#按行  toch.sum(variable1==variable2)统计两个variable一维矩阵中，相同的数量\n",
    "print(sum_x)"
   ]
  },
  {
   "cell_type": "code",
   "execution_count": 82,
   "metadata": {},
   "outputs": [
    {
     "name": "stdout",
     "output_type": "stream",
     "text": [
      "原维度 torch.Size([3, 2])\n",
      "增加维度: torch.Size([1, 3, 2])\n",
      "减少维度 torch.Size([3, 2])\n"
     ]
    }
   ],
   "source": [
    "#增减维度\n",
    "x = torch.randn(3, 2)\n",
    "print('原维度',x.shape)\n",
    "x = x.unsqueeze(0) # 在第一维增加\n",
    "\n",
    "print('增加维度:',x.shape)\n",
    "x = x.squeeze()#减少维度只有1的维度，如果填入数，就指定下标的删除\n",
    "print('减少维度',x.shape)"
   ]
  },
  {
   "cell_type": "code",
   "execution_count": 83,
   "metadata": {},
   "outputs": [
    {
     "name": "stdout",
     "output_type": "stream",
     "text": [
      "torch.Size([2, 3])\n"
     ]
    }
   ],
   "source": [
    "#重排列\n",
    "x = torch.randn(3, 2)\n",
    "x = x.permute(1, 0) # permute 可以重新排列 tensor 的维度\n",
    "print(x.shape)"
   ]
  },
  {
   "cell_type": "code",
   "execution_count": 87,
   "metadata": {},
   "outputs": [
    {
     "name": "stdout",
     "output_type": "stream",
     "text": [
      "交换维度: torch.Size([4, 3])\n"
     ]
    }
   ],
   "source": [
    "x = x.transpose(0, 1)  # transpose 交换 tensor 中的两个维度\n",
    "print('交换维度:',x.shape)\n"
   ]
  },
  {
   "cell_type": "code",
   "execution_count": 88,
   "metadata": {},
   "outputs": [
    {
     "name": "stdout",
     "output_type": "stream",
     "text": [
      "第二维reshape: torch.Size([6])\n"
     ]
    }
   ],
   "source": [
    "x = torch.randn(3, 2)\n",
    "\n",
    "#reshape操作\n",
    "x = x.view(-1) # -1 表示任意的大小，5 表示第二维变成 5\n",
    "print('第二维reshape:',x.shape)"
   ]
  },
  {
   "cell_type": "code",
   "execution_count": 91,
   "metadata": {},
   "outputs": [
    {
     "name": "stdout",
     "output_type": "stream",
     "text": [
      "求和: tensor([[ 0.3717, -0.7831,  0.8105, -2.9360],\n",
      "        [ 0.0410, -2.0129, -1.9873, -0.8350],\n",
      "        [ 0.6374,  0.9576, -0.1994,  0.3087]])\n",
      "修改前: \n",
      " tensor([[ 1.0996, -0.3549,  0.3767, -1.2068],\n",
      "        [-0.5463, -1.9779, -1.6327, -0.4493],\n",
      "        [-0.5359, -0.1588, -0.3218, -0.1045]])\n",
      "修改后: \n",
      " tensor([[ 1.0996, -0.3549,  0.3767, -1.2068],\n",
      "        [-0.5463,  2.0000,  2.0000, -0.4493],\n",
      "        [-0.5359,  2.0000,  2.0000, -0.1045]])\n"
     ]
    }
   ],
   "source": [
    "#6.变量之间计算\n",
    "x = torch.randn(3, 4)\n",
    "y = torch.randn(3, 4)\n",
    "z = x + y\n",
    "print('求和:',z)\n",
    "#如果是tensorflow，则要run才能运行\n",
    "\n",
    "#批量赋值\n",
    "print('修改前:','\\n',x)\n",
    "x[1:3, 1:3] = 2 #1到2的下标\n",
    "print('修改后:','\\n',x)\n",
    "\n"
   ]
  },
  {
   "cell_type": "code",
   "execution_count": null,
   "metadata": {},
   "outputs": [],
   "source": []
  },
  {
   "cell_type": "code",
   "execution_count": null,
   "metadata": {},
   "outputs": [],
   "source": []
  },
  {
   "cell_type": "code",
   "execution_count": null,
   "metadata": {},
   "outputs": [],
   "source": []
  },
  {
   "cell_type": "code",
   "execution_count": null,
   "metadata": {},
   "outputs": [],
   "source": []
  }
 ],
 "metadata": {
  "kernelspec": {
   "display_name": "Python 3",
   "language": "python",
   "name": "python3"
  },
  "language_info": {
   "codemirror_mode": {
    "name": "ipython",
    "version": 3
   },
   "file_extension": ".py",
   "mimetype": "text/x-python",
   "name": "python",
   "nbconvert_exporter": "python",
   "pygments_lexer": "ipython3",
   "version": "3.6.7"
  }
 },
 "nbformat": 4,
 "nbformat_minor": 2
}
